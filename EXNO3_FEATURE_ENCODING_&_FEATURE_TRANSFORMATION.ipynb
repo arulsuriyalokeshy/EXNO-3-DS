{
  "cells": [
    {
      "cell_type": "code",
      "execution_count": null,
      "metadata": {
        "vscode": {
          "languageId": "plaintext"
        }
      },
      "outputs": [],
      "source": [
        "import pandas as pd\n",
        "df=pd.read_csv(\"/content/Encoding Data.csv\")\n",
        "df\n"
      ]
    },
    {
      "cell_type": "code",
      "execution_count": null,
      "metadata": {
        "vscode": {
          "languageId": "plaintext"
        }
      },
      "outputs": [],
      "source": [
        "from sklearn.preprocessing import LabelEncoder,OrdinalEncoder\n",
        "pm=[\"Hot\",\"Warm\",\"Cold\"]\n",
        "e1=OrdinalEncoder(categories=[pm])\n",
        "e1.fit_transform(df[[\"ord_2\"]])\n"
      ]
    },
    {
      "cell_type": "code",
      "execution_count": null,
      "metadata": {
        "vscode": {
          "languageId": "plaintext"
        }
      },
      "outputs": [],
      "source": [
        "df[\"bo2\"]=e1.fit_transform(df[[\"ord_2\"]])\n",
        "df"
      ]
    },
    {
      "cell_type": "code",
      "execution_count": null,
      "metadata": {
        "vscode": {
          "languageId": "plaintext"
        }
      },
      "outputs": [],
      "source": [
        "le=LabelEncoder()\n",
        "dfcpy=df.copy()\n",
        "dfcpy[\"ord_2\"]=le.fit_transform(dfcpy[\"ord_2\"])\n",
        "dfcpy"
      ]
    },
    {
      "cell_type": "code",
      "execution_count": null,
      "metadata": {
        "vscode": {
          "languageId": "plaintext"
        }
      },
      "outputs": [],
      "source": [
        "from sklearn.preprocessing import OneHotEncoder\n",
        "OHE = OneHotEncoder()\n",
        "df2 = df.copy() \n",
        "enc = pd.DataFrame(OHE.fit_transform(df2[[\"nom_0\"]]))\n",
        "df2=pd.concat([df2,enc],axis=1)\n",
        "df2"
      ]
    },
    {
      "cell_type": "code",
      "execution_count": null,
      "metadata": {
        "vscode": {
          "languageId": "plaintext"
        }
      },
      "outputs": [],
      "source": [
        "pd.get_dummies(df,columns=[\"nom_0\"])"
      ]
    },
    {
      "cell_type": "code",
      "execution_count": null,
      "metadata": {
        "vscode": {
          "languageId": "plaintext"
        }
      },
      "outputs": [],
      "source": [
        "pip install category_encoders"
      ]
    },
    {
      "cell_type": "code",
      "execution_count": null,
      "metadata": {
        "vscode": {
          "languageId": "plaintext"
        }
      },
      "outputs": [],
      "source": [
        "from category_encoders import BinaryEncoder\n",
        "df=pd.read_csv(\"/content/data.csv\")\n",
        "df"
      ]
    },
    {
      "cell_type": "code",
      "execution_count": null,
      "metadata": {
        "vscode": {
          "languageId": "plaintext"
        }
      },
      "outputs": [],
      "source": [
        "be=BinaryEncoder()\n",
        "nd=be.fit_transform(df[\"Ord_2\"])\n",
        "dfb=pd.concat([df,nd],axis=1)\n",
        "dfb1=dfb.copy()\n",
        "dfb"
      ]
    },
    {
      "cell_type": "code",
      "execution_count": null,
      "metadata": {
        "vscode": {
          "languageId": "plaintext"
        }
      },
      "outputs": [],
      "source": [
        "from category_encoders import TargetEncoder\n",
        "te=TargetEncoder()\n",
        "cc=df.copy()\n",
        "new=te.fit_transform(X=cc[\"City\"],y=cc[\"Target\"])\n",
        "cc=pd.concat([cc,new],axis=1)\n",
        "cc"
      ]
    },
    {
      "cell_type": "code",
      "execution_count": null,
      "metadata": {
        "vscode": {
          "languageId": "plaintext"
        }
      },
      "outputs": [],
      "source": [
        "import pandas as pd\n",
        "from scipy import stats\n",
        "import numpy as np\n",
        "df=pd.read_csv(\"/content/Data_to_Transform.csv\")\n",
        "df"
      ]
    },
    {
      "cell_type": "code",
      "execution_count": null,
      "metadata": {
        "vscode": {
          "languageId": "plaintext"
        }
      },
      "outputs": [],
      "source": [
        "df.skew()"
      ]
    },
    {
      "cell_type": "code",
      "execution_count": null,
      "metadata": {
        "vscode": {
          "languageId": "plaintext"
        }
      },
      "outputs": [],
      "source": [
        "np.log(df[\"Highly Positive Skew\"])\n",
        "np.reciprocal(df[\"Moderate Positive Skew\"])"
      ]
    },
    {
      "cell_type": "code",
      "execution_count": null,
      "metadata": {
        "vscode": {
          "languageId": "plaintext"
        }
      },
      "outputs": [],
      "source": [
        "np.sqrt(df[\"Highly Negative Skew\"])"
      ]
    },
    {
      "cell_type": "code",
      "execution_count": null,
      "metadata": {
        "vscode": {
          "languageId": "plaintext"
        }
      },
      "outputs": [],
      "source": [
        "np.sqrt(df[\"Highly Positive Skew\"])"
      ]
    },
    {
      "cell_type": "code",
      "execution_count": null,
      "metadata": {
        "vscode": {
          "languageId": "plaintext"
        }
      },
      "outputs": [],
      "source": [
        "df[\"Highly Positive Skew_boxcox\"],parameters=stats.boxcox(df[\"Highly Positive Skew\"])\n",
        "df"
      ]
    },
    {
      "cell_type": "code",
      "execution_count": null,
      "metadata": {
        "vscode": {
          "languageId": "plaintext"
        }
      },
      "outputs": [],
      "source": [
        "df[\"Moderate Negative Skew\"],parameters=stats.yeojohnson(df[\"Moderate Negative Skew\"])\n",
        "df"
      ]
    },
    {
      "cell_type": "code",
      "execution_count": null,
      "metadata": {
        "vscode": {
          "languageId": "plaintext"
        }
      },
      "outputs": [],
      "source": [
        "df['Highly Negative Skew_yeojohnson'],parameters=stats.yeojohnson(df['Highly Negative Skew'])\n",
        "df.skew()"
      ]
    },
    {
      "cell_type": "code",
      "execution_count": null,
      "metadata": {
        "vscode": {
          "languageId": "plaintext"
        }
      },
      "outputs": [],
      "source": [
        "from sklearn.preprocessing import QuantileTransformer\n",
        "qt=QuantileTransformer(output_distribution='normal')\n",
        "df['Moderate Negative Skew_1']=qt.fit_transform(df[[\"Moderate Negative Skew\"]])  \n",
        "df"
      ]
    },
    {
      "cell_type": "code",
      "execution_count": null,
      "metadata": {
        "vscode": {
          "languageId": "plaintext"
        }
      },
      "outputs": [],
      "source": [
        "import seaborn as sns\n",
        "import statsmodels.api as sm\n",
        "import matplotlib.pyplot as plt\n",
        "sm.qqplot(df[\"Moderate Negative Skew\"],line=\"45\")\n",
        "plt.show()"
      ]
    },
    {
      "cell_type": "code",
      "execution_count": null,
      "metadata": {
        "vscode": {
          "languageId": "plaintext"
        }
      },
      "outputs": [],
      "source": [
        "sm.qqplot(np.reciprocal(df[\"Moderate Negative Skew\"]),line=\"45\")\n",
        "plt.show()"
      ]
    },
    {
      "cell_type": "code",
      "execution_count": null,
      "metadata": {
        "vscode": {
          "languageId": "plaintext"
        }
      },
      "outputs": [],
      "source": [
        "from sklearn.preprocessing import QuantileTransformer\n",
        "qt=QuantileTransformer(output_distribution='normal',n_quantiles=891)\n",
        "df['Moderate Negative Skew_2']=qt.fit_transform(df[[\"Moderate Negative Skew\"]])  \n",
        "sm.qqplot(df[\"Moderate Negative Skew_2\"],line=\"45\")\n",
        "plt.show()"
      ]
    },
    {
      "cell_type": "code",
      "execution_count": null,
      "metadata": {
        "vscode": {
          "languageId": "plaintext"
        }
      },
      "outputs": [],
      "source": [
        "df[\"Highly Negative Skew_1\"]=qt.fit_transform(df[[\"Highly Negative Skew\"]])\n",
        "sm.qqplot(df[\"Highly Negative Skew\"],line=\"45\")\n",
        "plt.show()"
      ]
    },
    {
      "cell_type": "code",
      "execution_count": null,
      "metadata": {
        "vscode": {
          "languageId": "plaintext"
        }
      },
      "outputs": [],
      "source": [
        "sm.qqplot(df[\"Highly Negative Skew_1\"],line=\"45\")\n",
        "plt.show()"
      ]
    },
    {
      "cell_type": "code",
      "execution_count": null,
      "metadata": {
        "vscode": {
          "languageId": "plaintext"
        }
      },
      "outputs": [],
      "source": [
        "dt=pd.read_csv(\"/titanic_dataset.csv\")\n",
        "from sklearn.preprocessing import QuantileTransformer\n",
        "qt=QuantileTransformer(output_distribution='normal',n_quantiles=891)\n",
        "dt['Age_1']=qt.fit_transform(dt[[\"Age\"]])\n",
        "sm.qqplot(dt[\"Age\"],line=\"45\")\n",
        "plt.show()"
      ]
    },
    {
      "cell_type": "code",
      "execution_count": null,
      "metadata": {
        "vscode": {
          "languageId": "plaintext"
        }
      },
      "outputs": [],
      "source": [
        "sm.qqplot(dt[\"Age_1\"],line=\"45\")\n",
        "plt.show()"
      ]
    }
  ],
  "metadata": {
    "colab": {
      "provenance": []
    },
    "kernelspec": {
      "display_name": "Python 3",
      "name": "python3"
    },
    "language_info": {
      "name": "python"
    }
  },
  "nbformat": 4,
  "nbformat_minor": 0
}
